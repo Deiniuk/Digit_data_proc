{
 "cells": [
  {
   "cell_type": "code",
   "execution_count": null,
   "id": "vertical-combat",
   "metadata": {},
   "outputs": [],
   "source": [
    "import numpy as np\n",
    "import matplotlib.pyplot as plt\n",
    "%matplotlib inline"
   ]
  },
  {
   "cell_type": "markdown",
   "id": "retired-oregon",
   "metadata": {},
   "source": [
    "# Ряд Фурье\n",
    "Любая периодическая функция $x(t)$ может быть представлена в виде ряда гармонически связанных \n",
    "синусов и косинусов.\n",
    "\n",
    "$x(t)$ является периодической функцией с периодом $T$: \n",
    "\n",
    "$$ \\large x(t)=x(t+nT), $$\n",
    "\n",
    "n - целое число.\n",
    "\n",
    "Тогда, $x(t)$ можно представить с помощью ряда Фурье:\n",
    "\n",
    "$$ \\large\n",
    "x(t)=\\frac{a_0}{2}+\\sum_{n=1}^{\\infty}a_n\\cos(2\\pi \\frac{nt}{T})+b_n\\sin(2\\pi\\frac{nt}{T}),$$\n",
    "\n",
    "где $a_n$ и $b_n$ являются коэффициентами Фурье и определяются следующим образом\n",
    "$$ \\large\n",
    "\\begin{align}a_n&=\\frac{2}{T}\\int_0^Tx(t)\\cos(2\\pi \\frac{nt}{T})dt\\\\\n",
    "b_n&=\\frac{2}{T}\\int_0^Tx(t)\\sin(2\\pi \\frac{nt}{T})dt\\end{align}$$\n",
    "\n",
    "Частота $\\frac{n}{T}$ называется $n$-й *гармоникой.*\n",
    "\n",
    "- Ряд Фурье разлагает периодическую функцию с периодом T на синусы и косинусы с частотами $\\frac{n}{T}, n=0,1,2,\\ldots$ которые называются $n$-й гармоникой сигнала. Чем больше гармоник используется, тем точнее можно описать функцию (исходный сигнал).\n",
    "- Для **четных функций**, т.е. $x(t)=x(-t)$, ряд Фурье **состоит только из косинусов**. Для **нечетных функций**, т.е. $x(t)=-x(-t)$, ряд Фурье **состоит только из синусов**.\n",
    "- На скачках и разрывах исходного сигнала наблюдаются большие колебания. Это явление называется эффектом Гиббса (связано с усечением ряда Фурье). По обе стороны перепадов появляются выбросы и затухающие колебания с частотой, близкой к частоте первого отброшенного члена ряда."
   ]
  },
  {
   "cell_type": "markdown",
   "id": "caring-entity",
   "metadata": {},
   "source": [
    "### Задание:\n",
    "Реализовать функцию расчета коэффициентов Фурье ($a_n$ и $b_n$) и функцию восстановления исходного сигнала $x(t)$ по гармоникам. В качества исходного сигнала рассмотреть прямоугольный сигнал."
   ]
  },
  {
   "cell_type": "markdown",
   "metadata": {
    "collapsed": false
   },
   "source": [
    "#### Примечание\n",
    "\n",
    "1. Функция расчета коэффициентов. На входе - сигнал и количество гармоник n. Интеграл в формулах расчета коэффициентов $a_n$ и $b_n$ заменяется суммированием. В цикле необходимо расчитать эти коэффициенты (цикл до n+1). Период $T$ представляется длиной входного списка, т.е. сигнала, а $t$ - это временные отсчеты (t = np.arange(T) или же используйте функцию range(), если хотите получить список).\n",
    "2. Функция восстановления исходного сигнала. На входе - период, который в формуле обозначен как $T$ и коэффициенты $a_n$ и $b_n$ ($t$ определяется как в функции расчета коэффициентов). Обратите внимание в формуле на $a_0$, (n=0).\n",
    "3. Для получения прямоугольного сигнала можете воспользоваться функциями np.zeros() или np.ones().\n",
    "4. Выполнить восстановление прямоугольного сигнала до N-той гармоники (N = 5, 20).\n",
    "5. Результаты представить на графике."
   ]
  },
  {
   "cell_type": "code",
   "execution_count": null,
   "id": "1340c298",
   "metadata": {},
   "outputs": [],
   "source": [
    "x_rect = np.zeros(100)  \n",
    "x_rect[64:96] = 1 \n",
    "plt.plot(x_rect) \n",
    "t = np.arange(len(x_rect)) \n",
    "xt=np.zeros(len(x_rect)) \n",
    "an=[] \n",
    "bn=[] \n",
    "N=5 \n",
    "for N in range (5,21): \n",
    "    N=N+1 \n",
    "    for n in range(N+1): \n",
    "        s=0; s1=0 \n",
    "        for i in range(len(x_rect)): \n",
    "            s+=np.cos(2*np.pi*n*i/len(x_rect))*x_rect[i] \n",
    "            s1+=np.sin(2*np.pi*n*i/len(x_rect))*x_rect[i] \n",
    "        an.append(s*(2/len(x_rect))) \n",
    "        bn.append(s1*(2/len(x_rect))) "
   ]
  },
  {
   "cell_type": "markdown",
   "metadata": {
    "collapsed": false
   },
   "source": [
    "Прямоугольный сигнал выглядит следующим образом:"
   ]
  },
  {
   "cell_type": "code",
   "execution_count": null,
   "id": "available-finnish",
   "metadata": {
    "pycharm": {
     "name": "#%%\n"
    }
   },
   "outputs": [],
   "source": [
    "plt.plot(x)"
   ]
  },
  {
   "cell_type": "markdown",
   "metadata": {
    "collapsed": false
   },
   "source": [
    "Пример того, что у вас должно быть в результате:"
   ]
  },
  {
   "cell_type": "code",
   "execution_count": null,
   "id": "identical-contributor",
   "metadata": {},
   "outputs": [],
   "source": [
    "plt.figure(figsize=(8,4))\n",
    "plt.plot(x, 'b', label='Исходный сигнал', lw=2)\n",
    "plt.plot(t, reconstruct(len(t), Fcoeff[:5,:]), label='5 гармоник')\n",
    "plt.plot(t, reconstruct(len(t), Fcoeff[:20,:]), label='20 гармоник')\n",
    "plt.grid(True)\n",
    "plt.ylabel('$x(t)$')\n",
    "plt.xlabel('$t$')\n",
    "plt.legend()"
   ]
  },
  {
   "cell_type": "code",
   "execution_count": null,
   "metadata": {
    "collapsed": false,
    "pycharm": {
     "name": "#%%\n"
    }
   },
   "outputs": [],
   "source": []
  }
 ],
 "metadata": {
  "kernelspec": {
   "display_name": "Python 3.10.2 ('ddp_env': venv)",
   "language": "python",
   "name": "python3"
  },
  "language_info": {
   "codemirror_mode": {
    "name": "ipython",
    "version": 3
   },
   "file_extension": ".py",
   "mimetype": "text/x-python",
   "name": "python",
   "nbconvert_exporter": "python",
   "pygments_lexer": "ipython3",
   "version": "3.10.2"
  },
  "vscode": {
   "interpreter": {
    "hash": "7cc26eb2629622f8be706aef7e7963775f3231d4a7d7cd1c2c178b45580072e0"
   }
  }
 },
 "nbformat": 4,
 "nbformat_minor": 5
}
