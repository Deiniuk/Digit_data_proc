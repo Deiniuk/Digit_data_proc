{
 "cells": [
  {
   "cell_type": "markdown",
   "metadata": {
    "collapsed": false,
    "pycharm": {
     "name": "#%% md\n"
    }
   },
   "source": [
    "#### Цифровая обработка данных.\n",
    "#### Практика №4. Классификация сигналов. Дискретизация. Равномерное квантование."
   ]
  },
  {
   "cell_type": "code",
   "execution_count": null,
   "id": "sufficient-japan",
   "metadata": {},
   "outputs": [],
   "source": [
    "import numpy as np  \n",
    "import matplotlib.pyplot as plt  \n",
    "from scipy.stats import kurtosis  \n",
    "from scipy.stats import skew  \n",
    "%matplotlib  inline   "
   ]
  },
  {
   "cell_type": "code",
   "execution_count": null,
   "metadata": {
    "collapsed": false,
    "pycharm": {
     "name": "#%%\n"
    }
   },
   "outputs": [],
   "source": [
    "def select_plot(title, *args, **kwargs):\n",
    "    \"\"\"Вспомогательная функция для построения графика заданного сигнала\n",
    "    (непрерывный, дискретный, квантованный).\n",
    "\n",
    "    Args:\n",
    "        title: (str) Тип сигнала ('continuous', 'discrete', 'quantized');\n",
    "        args: Позиционные аргументы;\n",
    "            Пример:\n",
    "            t (np.ndarray): Дискретные отсчёты времени;\n",
    "            signal (np.ndarray): Сигнал;\n",
    "        kwargs: Именованные аргументы (ширина и тип линии, маркер и его размер и т.д.);\n",
    "            Пример:\n",
    "            linewidth=2\n",
    "\n",
    "    Example:\n",
    "    select_plot('continuous', t, signal, linewidth=2.0)\n",
    "    \"\"\"\n",
    "    if title == 'continuous':\n",
    "        plt.title('Непрерывный сигнал')\n",
    "        plt.plot(*args, **kwargs)\n",
    "    elif title == 'discrete':\n",
    "        plt.title('Дискретный сигнал')\n",
    "        plt.stem(*args, **kwargs)\n",
    "    elif title == 'quantized':\n",
    "        plt.title('Квантованный сигнал')\n",
    "        plt.step(*args, **kwargs)\n",
    "    else:\n",
    "        print('Введите корректный тип сигнала')\n",
    "    plt.xlim([0, 1])\n",
    "    plt.xlabel('Время (сек.)')\n",
    "    plt.ylabel('Амплитуда')\n",
    "    plt.yticks(np.linspace(np.floor(np.min(signal)), np.ceil(np.max(signal)), 9))\n",
    "    plt.grid(True)\n",
    "    axes = plt.gca()\n",
    "    axes.spines['right'].set_color('none')\n",
    "    axes.spines['top'].set_color('none')\n",
    "    axes.spines['bottom'].set_position(('data', 0))\n",
    "    plt.show()"
   ]
  },
  {
   "cell_type": "code",
   "execution_count": null,
   "metadata": {
    "collapsed": false,
    "pycharm": {
     "name": "#%%\n"
    }
   },
   "outputs": [],
   "source": [
    "SAMPLES = 3200  # количество отсчётов\n",
    "t = np.linspace(0, 5, SAMPLES, endpoint=True)  # массив отсчётов времени в интервале [0, 5]\n",
    "signal = np.cos(2 * np.pi * t)  # тестовый сигнал"
   ]
  },
  {
   "cell_type": "markdown",
   "metadata": {
    "collapsed": false
   },
   "source": [
    "# Аналоговый (непрерывный) сигнал\n",
    "\n",
    "*Сигнал* можно определить как функцию, переносящей информацию о состоянии или поведении физической системы.\n",
    "Сигналы представляются в виде функций одной или более независимых переменных.\n",
    "\n",
    "*Аналоговый сигнал* $x(t)$ является непрерывной функцией времени, таким образом $x(t)$ однозначно определяется для всех $t$ (функция и её аргументы могут принимать любые значения в пределах некоторого интервала)."
   ]
  },
  {
   "cell_type": "code",
   "execution_count": null,
   "metadata": {
    "collapsed": false,
    "pycharm": {
     "name": "#%%\n"
    }
   },
   "outputs": [],
   "source": [
    "select_plot('continuous', t, signal, linewidth=2.0)"
   ]
  },
  {
   "cell_type": "markdown",
   "metadata": {
    "collapsed": false
   },
   "source": [
    "# Дискретный сигнал\n",
    "\n",
    "*Дискретный сигнал* $x(kT)$ является сигналом, существующим только в дискретные промежутки времени. Дискретный сигнал характеризуется  последовательностью чисел, определенных для каждого момента времени $kT$ ($k$ - целое число, $T$ - промежуток времени). Такие числа являются значениями сигнала в дискретные т.е. отдельные моменты времени и называются отсчётами сигнала. Зачастую отсчёты берутся через равные промежутки времени $T$, называемые *периодом дискретизации* или *шагом дискретизации*. Величина, обратная периоду дискретизации, называется *частотой дискретизации*:\n",
    "$$f_Д = 1/T$$\n",
    "Круговая частота определяется следующим образом:\n",
    "$$\\omega_Д = 2\\pi/T$$\n"
   ]
  },
  {
   "cell_type": "code",
   "execution_count": null,
   "metadata": {
    "collapsed": false,
    "pycharm": {
     "name": "#%%\n"
    }
   },
   "outputs": [],
   "source": [
    "select_plot('discrete', t, signal)"
   ]
  },
  {
   "cell_type": "markdown",
   "metadata": {
    "collapsed": false
   },
   "source": [
    "# Квантованный сигнал\n",
    "\n",
    "*Квантованный сигнал* описывается ступенчатой функцией, которая принимает лишь ряд дискретных уровней - уровней\n",
    "квантования $mq$, $q$ - шаг квантования, $m$ - номер интервала квантования, $m = 0,1,..., M-1$, $M = 2^n$\n",
    "($n$ - целое число).\n",
    "\n",
    "*Цифровыми сигналами* являются те, у которых дискретны как время (или иная переменная), так и уровень (величина) сигнала. Сигнал, дискретный во времени, но не квантованный по уровню, называется *дискретным*."
   ]
  },
  {
   "cell_type": "code",
   "execution_count": null,
   "metadata": {
    "collapsed": false,
    "pycharm": {
     "name": "#%%\n"
    }
   },
   "outputs": [],
   "source": [
    "select_plot('quantized', t, signal)"
   ]
  },
  {
   "cell_type": "code",
   "execution_count": null,
   "id": "threatened-plymouth",
   "metadata": {},
   "outputs": [],
   "source": [
    "# Пример гармонического сигнала с различным количеством отсчётов\n",
    "\n",
    "samples_list = [3, 5, 8, 16]\n",
    "\n",
    "fig = plt.figure(figsize=(15, 10), dpi=100)\n",
    "for i, number in enumerate(samples_list, 1):\n",
    "    t_samples = np.linspace(0, 1, number, endpoint=True)\n",
    "\n",
    "    plt.subplot(2, 2, i)\n",
    "    plt.title(f'Количество отсчётов = {number}')\n",
    "    plt.plot(t, signal, '-', linewidth=2.0, label='Непрерывный')\n",
    "    plt.plot(t_samples, np.sin(2 * np.pi * t_samples), 'or',\n",
    "             linewidth=2.0, markersize=10, label='Дискретный')\n",
    "    plt.step(t_samples, np.sin(2 * np.pi * t_samples), 'k',\n",
    "             linewidth=2.0, label='Квантованный')\n",
    "    plt.grid()\n",
    "    plt.xlim([0, 1])\n",
    "    plt.xlabel('Время (сек.)')\n",
    "    plt.ylabel('Амплитуда')\n",
    "    plt.legend()\n",
    "plt.tight_layout()\n",
    "plt.show()"
   ]
  },
  {
   "cell_type": "markdown",
   "metadata": {
    "collapsed": false
   },
   "source": [
    "# Дискретизация\n",
    "\n",
    "*Дискретизацией* называется процесс преобразования аналогового сигнала в последовательность отсчётов. Отсчёты могут принимать лишь конечное множество значений, следовательно при представлении  сигнала неизбежно происходит его округление. Очевидно, что для более точного описания аналогового сигнала требуется меньший период дискретизации.\n",
    "\n",
    "Дискретные сигналы $x(kT)$ образуются путём умножения аналогового сигнала $x(t)$ на так называемую *функцию дискретизации*, которая представляет собой периодическую последовательность коротких импульсов, следующих с заданным шагом (интервалом) дискретизации. В качестве функции дискретизации часто используется периодическая последовательность **дельта-функций**.\n",
    "\n",
    "## Дельта-функция Дирака\n",
    "\n",
    "*Дельта-функция Дирака* $\\delta(t)$ (также называется импульсной функцией) является такой функцией, которая равна бесконечности, когда её аргумент равен нулю, и равна нулю при остальных значениях аргумента:\n",
    "$$ \\large\n",
    "\\[ \\delta(t) =\n",
    "  \\begin{cases}\n",
    "    +\\infty,       & \\quad \\text{если } t = 0, \\\\\n",
    "    0,  & \\quad \\text{если } t \\neq 0;\n",
    "  \\end{cases}\n",
    "\\]\n",
    "$$\n",
    "\n",
    "По сути, эта функция является абстракцией импульса с бесконечно большой амплитудой, нулевой шириной и единичным весом (т.е. площадью под импульсом) в точке, где значения его аргумента равно нулю. При выполнении дискретизации дельта-функцию $\\delta(t)$ рассматривают как импульс конечной амплитуды, единичной площади и ненулевой длительности (в идеальном случае нулевой).\n",
    "\n",
    "Например, дельта-функция $\\delta(t - t_0)$ будет представлять из себя пик, расположенный в точке $t = t_0$, высота которого равна интегралу от него (т.е. его площади); $A\\delta(t - t_0)$ ($A$ - постоянная) представляет импульсную функцию с площадью равной $A$ и нулевыми значениями везде, за исключением точки $t = t_0$.\n",
    "\n",
    "Важное свойство дельта-функции (свойство единичной площади) заключается в том, что интеграл от неё равен единице:\n",
    "$$\\large \\[ \\int_{-\\infty}^{+\\infty} \\delta(t) \\,dt \\] = 1,$$\n",
    "в случае импульса ненулевой длительности, расположенного в точке $t_0$ можно записать таким образом:\n",
    "$$ \\large \\[ \\int_{t_0 - \\varepsilon}^{t_0 + \\varepsilon} \\delta(t - t_0) \\,dt \\] = 1,$$ при любом $\\varepsilon > 0$.\n",
    "\n",
    "Дельта-функция Дирака также является чётной, т.е. $\\delta(-t) = \\delta(t)$.\n",
    "\n",
    "И наконец, интеграл от произведения единичного импульса и произвольной функции дает выборку функции $x(t)$ в точке $t = t_0$ (данное свойство называется **фильтрующим свойством** дельта-функции):\n",
    "$$ \\large \\[ \\int_{-\\infty}^{+\\infty} x(t)\\delta(t-t_0) \\,dt = x(t_0)\\].$$\n",
    "\n",
    "Итак, **фильтрующее свойство** дельта-функции состоит в том, что если непрерывную функцию умножить на дельта-функцию и произведение проинтегрировать по времени, то результат будет равен значению непрерывной функции в той точке, где сосредоточен дельта-импульс.\n",
    "\n",
    "## Гребень Дирака (последовательность дельта-функций)\n",
    "\n",
    "Периодическая последовательность дельта-функций, следующих с периодом $T$ определяется следующим образом:\n",
    "$$ \\large\n",
    "\\Delta _{T}(t) = \\sum_{k=0}^\\infty \\delta(t-kT).$$\n",
    "\n",
    "(*нижний предел суммы обобщённо можно записать как $k = - \\infty$*)\n",
    "\n",
    "Эту функцию можно назвать *функцией идеальной дискретизации*.\n",
    "Функция $\\Delta _{T}(t)$ является периодической, т.е. $\\Delta _{T}(t + T) = \\Delta _{T}(t)$.\n",
    "Описанную выше периодическую последовательность дельта-функций, следующих с периодом $T$, называют ещё **гребнем Дирака**."
   ]
  },
  {
   "cell_type": "code",
   "execution_count": null,
   "metadata": {
    "collapsed": false,
    "pycharm": {
     "name": "#%%\n"
    }
   },
   "outputs": [],
   "source": [
    "# Последовательность дельта-функций\n",
    "dirac_sequence = np.ones(5)\n",
    "\n",
    "# График последовательности\n",
    "fig = plt.figure(figsize=(10, 6))\n",
    "ax = fig.add_subplot(111)\n",
    "plt.stem(dirac_sequence, use_line_collection=True,  markerfmt='^')\n",
    "plt.xlim(right=6)\n",
    "plt.ylim(top=3)\n",
    "plt.yticks([])\n",
    "plt.title('Гребень Дирака', loc='left')\n",
    "plt.xlabel('Время', horizontalalignment='right', x=1.0)\n",
    "xmin, xmax = ax.get_xlim()\n",
    "ymin, ymax = ax.get_ylim()\n",
    "ax.xaxis.set_major_formatter(FuncFormatter(\n",
    "    lambda val, pos: f'{val:.0g}T' if val != 0 else '0'\n",
    "))\n",
    "\n",
    "# Ось со стрелками\n",
    "\n",
    "for side in ['bottom', 'right', 'top', 'left']:\n",
    "    ax.spines[side].set_visible(False)\n",
    "\n",
    "dps = fig.dpi_scale_trans.inverted()\n",
    "bbox = ax.get_window_extent().transformed(dps)\n",
    "width, height = bbox.width, bbox.height\n",
    "\n",
    "hw = 1. / 20. * (ymax - ymin)\n",
    "hl = 1. / 20. * (xmax - xmin)\n",
    "LW = 1.\n",
    "OHG = 0.3\n",
    "\n",
    "yhw = hw / (ymax - ymin) * (xmax - xmin) * height / width\n",
    "yhl = hl / (xmax - xmin) * (ymax - ymin) * width / height\n",
    "\n",
    "ax.arrow(xmin, 0, xmax - xmin, 0., fc='k', ec='k', lw=LW,\n",
    "         head_width=hw, head_length=hl, overhang=OHG,\n",
    "         length_includes_head=True, clip_on=False)\n",
    "\n",
    "ax.arrow(0, ymin, 0., ymax - ymin, fc='k', ec='k', lw=LW,\n",
    "         head_width=yhw, head_length=yhl, overhang=OHG,\n",
    "         length_includes_head=True, clip_on=False)\n",
    "\n",
    "# Добавление троеточия\n",
    "plt.text(4.5, 0.5, r'$\\cdots$',\n",
    "         {'color': 'black', 'fontsize': 24, 'ha': 'center', 'va': 'center'})\n",
    "plt.show()"
   ]
  },
  {
   "cell_type": "markdown",
   "metadata": {
    "collapsed": false
   },
   "source": [
    "## Процесс дискретизации\n",
    "\n",
    "Операция дискретизации, т.е. переход от аналогового сигнала $x(t)$ к дискретному $x_Д(t)$ (или $x(kT)$) осуществляется умножением $x(t)$ на функцию дискретизации $\\Delta _{T}(t)$:\n",
    "$$ \\large x_Д(t) = x(t) \\cdot \\Delta _{T}(t).$$\n",
    "\n",
    "\n",
    "Таким образом, дискретизированный сигнал представляется бесконечно узкими импульсами (в идеальном случае ширина импульса равна 0), площадь которых равна $T\\cdot x(kT)$. Такие импульсы располагаются в равноотстоящих (эквидистантных) точках $kT$, $k = 0, \\pm 1, \\pm 2, \\pm 3, ...$."
   ]
  },
  {
   "cell_type": "markdown",
   "metadata": {
    "collapsed": false
   },
   "source": [
    "# Задание\n",
    "\n",
    "1. Задать гармонический сигнал $cos(2\\pi t)$, количество отсчётов 3200, интервал $[0, 5]$.\n",
    "2. Сгенерировать последовательность дельта-функций. Период последовательности $n = 40, 50, 100$, т.е. каждый $n-й$ отсчёт должен быть единичным импульсом.\n",
    "3. Выполнить дискретизацию гармонического сигнала путем умножения его на функцию дискретизации.\n",
    "4. Вывести сигнал после дискретизации."
   ]
  },
  {
   "cell_type": "code",
   "execution_count": null,
   "id": "e765af2e",
   "metadata": {},
   "outputs": [],
   "source": [
    "SAMPLES = 3200  # количество отсчётов\n",
    "t = np.linspace(0, 5, SAMPLES, endpoint=True)  # массив отсчётов времени в интервале [0, 5]\n",
    "signal = np.cos(2 * np.pi * t)  # тестовый сигнал"
   ]
  },
  {
   "cell_type": "code",
   "execution_count": null,
   "id": "3aec102d",
   "metadata": {},
   "outputs": [],
   "source": [
    "a = np.zeros(3200) \n",
    "a = np.array(a) \n",
    "a[::40] = 1 \n",
    "print(a) "
   ]
  },
  {
   "cell_type": "code",
   "execution_count": null,
   "id": "e78ef664",
   "metadata": {},
   "outputs": [],
   "source": [
    "b = np.zeros(3200) \n",
    "b = np.array(b) \n",
    "b[::50] = 1 \n",
    "print(b) "
   ]
  },
  {
   "cell_type": "code",
   "execution_count": null,
   "id": "f9a202c6",
   "metadata": {},
   "outputs": [],
   "source": [
    "c = np.zeros(3200) \n",
    "c = np.array(c) \n",
    "c[::100] = 1 \n",
    "print(c)"
   ]
  },
  {
   "cell_type": "code",
   "execution_count": null,
   "id": "80a27afa",
   "metadata": {},
   "outputs": [],
   "source": [
    "ds1 = signal.dot(a) \n",
    "print(ds1) \n",
    "ds2 = signal.dot(b) \n",
    "print(ds2) \n",
    "ds3 = signal.dot(c) \n",
    "print(ds3) "
   ]
  },
  {
   "cell_type": "code",
   "execution_count": null,
   "id": "a095a4ad",
   "metadata": {},
   "outputs": [],
   "source": [
    "def select_plot(title, *args, **kwargs): \n",
    "    if title == 'continuous': \n",
    "        plt.title('Непрерывный сигнал') \n",
    "        plt.plot(*args, **kwargs) \n",
    "    elif title == 'discrete': \n",
    "        plt.title('Дискретный сигнал') \n",
    "        plt.stem(*args, **kwargs) \n",
    "    elif title == 'quantized': \n",
    "        plt.title('Квантованный сигнал') \n",
    "        plt.step(*args, **kwargs) \n",
    "    else: \n",
    "        print('Введите корректный тип сигнала') \n",
    "    plt.xlim([0, 1]) \n",
    "    plt.xlabel('Время (сек.)') \n",
    "    plt.ylabel('Амплитуда') \n",
    "    plt.yticks(np.linspace(np.floor(np.min(signal)), np.ceil(np.max(signal)), 9)) \n",
    "    plt.grid(True) \n",
    "    axes = plt.gca() \n",
    "    axes.spines['right'].set_color('none') \n",
    "    axes.spines['top'].set_color('none') \n",
    "    axes.spines['bottom'].set_position(('data', 0)) \n",
    "    plt.show() \n",
    "     \n",
    "     \n",
    "select_plot('discrete', t, signal)"
   ]
  },
  {
   "cell_type": "markdown",
   "metadata": {
    "collapsed": false,
    "pycharm": {
     "name": "#%% md\n"
    }
   },
   "source": [
    "# Квантование\n",
    "\n",
    "*Квантованием* является замена непрерывной шкалы уровней сигнала дискретной. Ошибки округления (отбрасывание некоторой исходной аналоговой информации), возникающие при квантовании, называются **ошибками (шумами) квантования**. Величина этого шума обратно пропорциональна числу уровней квантования. Для аппроксимации значений из непрерывного диапазона на входе используются значения из конечного множества, состоящего из $L$ уровней ($L$ - число уровней квантования).\n",
    "\n",
    "Процесс квантования сводится к тому, что вместо мгновенного значения сигнала передаётся ближайшее значение по установленной шкале уровней квантования. Вся шкала допустимых значений сигнала разбивается на ряд уровней с шагом квантования $\\Delta$. Значение функции (сигнала) $x(t)$ в некоторый момент времени $t = kT$ заменяется величиной ближайшего уровня $n\\Delta$ так, чтобы ошибка была всегда меньше половины шага квантования.\n",
    "\n",
    "Если уровни квантования равномерно распределены  по всему диапазону (*шаг квантования остаётся постоянным в допустимых пределах возможных значений*, т.е. $\\Delta = const$), то такое квантование называется **равномерным** или **линейным**.\n",
    "\n",
    "Каждое значения аналогового сигнала аппроксимируется квантованным: аппроксимация даёт ошибку, не превышающую $\\pm \\Delta/2$. Таким образом, ухудшение сигнала вследствие квантования ограничено половиной квантового  интервала.\n",
    "\n",
    "В качестве критерия качества *равномерного квантования* выступает дисперсия (при подразумеваемом нулевом среднем), которая соответствует *средней мощности шума квантования*. Обозначим через $e$ ошибку квантования. Тогда *мощность ошибки квантования* представляет собой математическое ожидание квадрата ошибки квантования $e$:\n",
    "\n",
    "$$ \\large\n",
    "E(e^2)=\\int_{-\\Delta /2}^{\\Delta /2}e^2 \\cdot p(e)de ,$$\n",
    "\n",
    "где **$p(e)$** - (равномерно распределённая) плотность вероятности возникновения ошибки квантования. Т.е. тут вычисляется мощность (дисперсия) каждого возможного значения ошибки $e$, возведя её в квадрат и умножая на её вероятность, для получения *средней мощности ошибки квантования*.\n",
    "\n",
    "Если полагать, что ошибка квантования, $e$, равномерно распределена в пределах интервала квантования шириной $\\Delta$ (т.е. аналоговый сигнал принимает все возможные значения с равной вероятностью) и поскольку интеграл по вероятностям всех возможных значений $e$ должен быть равен 1, а возможные значения $e$ находятся между $-\\Delta /2$ и $\\Delta /2$, то получаем:\n",
    "\n",
    "$$ \\large\n",
    "1=\\int_{-\\Delta /2}^{\\Delta /2}p(e)de=p(e) \\cdot \\int_{-\\Delta /2}^{\\Delta /2}de=p(e) \\cdot \\Delta,$$\n",
    "\n",
    "тогда\n",
    "\n",
    "$$ \\large p(e)=1/\\Delta$$\n",
    "\n",
    "и соответственно\n",
    "\n",
    "$$ \\large E(e^2)=\\frac{1} {\\Delta} \\cdot \\int_ {-\\Delta/2}^{\\Delta/2} e^2 de\n",
    "= \\frac{1} {\\Delta} \\left(\\frac{(\\Delta/2)^3} {3} - \\frac{(-\\Delta/2)^3} {3} \\right) = \\frac{\\Delta^2}{12}$$\n",
    "\n",
    "Следовательно, **мощность ошибки квантования при равномерном квантовании** с размером шага $\\Delta$ составляет:\n",
    "\n",
    "$$ \\large E(e^2)=\\frac{\\Delta^2}{12} $$\n",
    "\n"
   ]
  },
  {
   "cell_type": "markdown",
   "metadata": {
    "collapsed": false
   },
   "source": [
    "## Равномерное квантование\n",
    "\n",
    "Рассмотрим следующий пример.\n",
    "Предположим, что имеется сигнал с диапазоном значений от -1В до 1В, разрядность квантования составляет  4 бита (т.е. всего $2^4$ уровней квантования). На вход поступает значение 0.2В.\n"
   ]
  },
  {
   "cell_type": "code",
   "execution_count": null,
   "metadata": {
    "collapsed": false,
    "pycharm": {
     "name": "#%%\n"
    }
   },
   "outputs": [],
   "source": [
    "# Определение шага квантования\n",
    "RANGE_MAX = 1   # Максимальное значение\n",
    "RANGE_MIN = -1  # Минимальное значение\n",
    "N = 4           # Количество бит\n",
    "\n",
    "STEPSIZE = (RANGE_MAX - RANGE_MIN)/(2**N)  # шаг квантования\n",
    "print(STEPSIZE)"
   ]
  },
  {
   "cell_type": "markdown",
   "metadata": {
    "collapsed": false
   },
   "source": [
    "Затем получаем значение уровня квантования:"
   ]
  },
  {
   "cell_type": "code",
   "execution_count": null,
   "metadata": {
    "collapsed": false,
    "pycharm": {
     "name": "#%%\n"
    }
   },
   "outputs": [],
   "source": [
    "INPUT_VALUE = 0.2\n",
    "index_q = round(INPUT_VALUE/STEPSIZE)\n",
    "print(index_q)"
   ]
  },
  {
   "cell_type": "markdown",
   "metadata": {
    "collapsed": false
   },
   "source": [
    "Уровень квантования кодируется с использованием *4 бит*, в данном примере имеем **“0010”**.\n",
    "Декодер восстановит значение сигнала, сначала декодируя уровень квантования, и, например, умножая это декодированное значение на *шаг квантования*:"
   ]
  },
  {
   "cell_type": "code",
   "execution_count": null,
   "metadata": {
    "collapsed": false,
    "pycharm": {
     "name": "#%%\n"
    }
   },
   "outputs": [],
   "source": [
    "reconstr = STEPSIZE * index_q\n",
    "print(reconstr)"
   ]
  },
  {
   "cell_type": "markdown",
   "metadata": {
    "collapsed": false
   },
   "source": [
    "Ошибка квантования определяется как:\n",
    "\n",
    "$$ \\large\n",
    "e = x_q(t) - x(t),$$\n",
    "\n",
    "где $x_q(t)$ - квантованный сигнал.\n",
    "\n",
    "В данном примере ошибка квантования равна 0.25В - 0.2В = 0.05В."
   ]
  },
  {
   "cell_type": "markdown",
   "metadata": {
    "collapsed": false
   },
   "source": [
    "**Равномерное квантование** с шагом $\\Delta$ описывается следующим образом:\n",
    "\n",
    "\\begin{equation} \\large\n",
    "    Q(x) = \\mathrm{sgn}(x) \\cdot \\Delta \\cdot \\left\\lfloor \\frac{|x|}{\\Delta} + \\frac{1}{2} \\right\\rfloor,\n",
    "\\end{equation}\n",
    "\n",
    "$x\\in\\mathbb{R}$, где $\\mathrm{sgn}(\\cdot)$ является сигнум-функцией, $\\lfloor \\cdot \\rfloor$ означает округление до ближайшего меньшего целого.\n",
    "В случае $\\Delta=1$ квантователь просто округляет до ближайшего целого числа.\n",
    "\n",
    "Уменьшение размера шага квантования обычно приводит к меньшим ошибкам квантования. В то же время увеличивается количество квантованных значений и, следовательно, также количество бит, необходимых для кодирования этих значений. Для записи звуковой информации на компакт-диск (CD) используется 16-битная система кодирования, позволяющая представить $65536$ возможных значений.\n",
    "\n",
    "*Рассмотрим реализацию равномерного квантования.*\n",
    "\n",
    "Будем предполагать, что значения аналогового сигнала находятся в диапазоне $[U, -U]$, $U\\in\\mathbb{R}$. Кроме того, учитывая количество уровней квантования $L\\in\\mathbb{N}$, определим размер шага квантования как $\\Delta=|U-(-U)|/(L-1)$, состоящие из $L$ уровней квантования (начиная со значения $-U$ и заканчивая значением $U$). Например, звуковые сигналы  обычно находятся в диапазоне $[-1,1]$."
   ]
  },
  {
   "cell_type": "code",
   "execution_count": null,
   "metadata": {
    "collapsed": false,
    "pycharm": {
     "name": "#%%\n"
    }
   },
   "outputs": [],
   "source": [
    "def quantize_uniform(signal_ampl, quant_min=-1.0, quant_max=1.0, quant_level=4):\n",
    "    \"\"\"Реализация равномерного квантования сигнала\n",
    "\n",
    "\n",
    "    Args:\n",
    "        signal_ampl (np.ndarray): Исходный (непрерывный) сигнал\n",
    "        quant_min (float): Минимальный уровень квантования (Default value = -1.0)\n",
    "        quant_max (float): Максимальный уровень квантования (Default value = 1.0)\n",
    "        quant_level (int): Количество уровней квантования (Default value = 4)\n",
    "\n",
    "    Returns:\n",
    "        x_quant (np.ndarray): Квантованный сигнал\n",
    "    \"\"\"\n",
    "    # Рассчитать нормированное значение следующим образом:\n",
    "    # x_normalize = (signal_ampl - quant_min) * (quant_level - 1) / (quant_max - quant_min)\n",
    "    # Если x_normalize > quant_level - 1, то x_normalize = quant_level - 1\n",
    "    # Если x_normalize < 0, то x_normalize = 0\n",
    "    # x_normalize_quant = округление x_normalize к ближайшему четному числу\n",
    "    # Получить квантованные значения:\n",
    "    # x_quant = x_normalize_quant * (quant_max - quant_min) / (quant_level - 1) + quant_min\n"
   ]
  },
  {
   "cell_type": "code",
   "execution_count": null,
   "metadata": {
    "collapsed": false,
    "pycharm": {
     "name": "#%%\n"
    }
   },
   "outputs": [],
   "source": [
    "def plot_graph_quant_function(axis, quant_min=-1.0, quant_max=1.0, quant_level=256):\n",
    "    \"\"\"Вспомогательная функция для построения графика\n",
    "    квантованного сигнала и ошибки квантования\n",
    "\n",
    "    Args:\n",
    "        axis (mpl.axes.Axes): Оси (axis)\n",
    "        quant_min (float): Минимальный уровень квантования (Default value = -1.0)\n",
    "        quant_max (float): Максимальный уровень квантования (Default value = 1.0)\n",
    "        quant_level (int): Количество уровней квантования  (Default value = 256)\n",
    "    \"\"\"\n",
    "    x_cont = np.linspace(quant_min, quant_max, 1000)\n",
    "    x_quant = quantize_uniform(x_cont, quant_min=quant_min,\n",
    "                               quant_max=quant_max, quant_level=quant_level)\n",
    "    quant_stepsize = (quant_max - quant_min) / (quant_level - 1)\n",
    "    title = f'$L = {quant_level:d}, \\\\Delta = {quant_stepsize:.2f}$'\n",
    "    # title = r'$L = %d, \\Delta=%0.2f$' % (quant_level, quant_stepsize)\n",
    "    error = np.abs(x_quant - x_cont)\n",
    "    axis.plot(x_cont, x_cont, color='k', label='Исходная амплитуда')\n",
    "    axis.plot(x_cont, x_quant, color='b', label='Квантованная амплитуда')\n",
    "    axis.plot(x_cont, error, 'r--', label='Ошибка квантования')\n",
    "    axis.set_title(title)\n",
    "    axis.set_xlabel('Амплитуда')\n",
    "    axis.set_ylabel('Квантованная амплитуда/ошибка')\n",
    "    axis.set_xlim([quant_min, quant_max])\n",
    "    axis.set_ylim([quant_min, quant_max])\n",
    "    axis.grid('on')\n",
    "    axis.legend()"
   ]
  },
  {
   "cell_type": "code",
   "execution_count": null,
   "metadata": {
    "collapsed": false,
    "pycharm": {
     "name": "#%%\n"
    }
   },
   "outputs": [],
   "source": [
    "plt.figure(figsize=(12, 4))\n",
    "ax = plt.subplot(1, 3, 1)\n",
    "plot_graph_quant_function(ax, quant_min=-1, quant_max=4, quant_level=3)\n",
    "ax = plt.subplot(1, 3, 2)\n",
    "plot_graph_quant_function(ax, quant_min=-2, quant_max=2, quant_level=4)\n",
    "ax = plt.subplot(1, 3, 3)\n",
    "plot_graph_quant_function(ax, quant_min=-1, quant_max=1, quant_level=9)\n",
    "plt.tight_layout()\n",
    "plt.show()"
   ]
  },
  {
   "cell_type": "markdown",
   "metadata": {
    "collapsed": false
   },
   "source": [
    "# Задание\n",
    "\n",
    "1. Реализовать функцию равномерного квантования.\n",
    "2. Получить квантованные значения для линейной функции $y = x$.\n",
    "3. Применить равномерное квантование к синусоиде с варьируемым числом\n",
    "уровней квантования $L = 8, 16, 32, 64$. Вывести полученный результат.\n"
   ]
  },
  {
   "cell_type": "code",
   "execution_count": null,
   "metadata": {
    "collapsed": false,
    "pycharm": {
     "name": "#%%\n"
    }
   },
   "outputs": [],
   "source": [
    "def quantize_uniform(signal_ampl, quant_min=-1.0, quant_max=1.0, quant_level=4): \n",
    "    x_normalize = (signal_ampl - quant_min) * (quant_level - 1) / (quant_max - quant_min) \n",
    "    x_normalize[x_normalize > quant_level - 1]  = quant_level - 1 \n",
    "    x_normalize[x_normalize < 0]  = 0 \n",
    "    x_normalize_quant = np.round(x_normalize) \n",
    "    return x_normalize_quant * (quant_max - quant_min) / (quant_level - 1) + quant_min \n",
    "     \n",
    "def plot_graph_quant_function(axis, quant_min=-1.0, quant_max=1.0, quant_level=256): \n",
    "    x_cont = np.linspace(quant_min, quant_max, 1000) \n",
    "    x_quant = quantize_uniform(x_cont, quant_min=quant_min,quant_max=quant_max, quant_level=quant_level) \n",
    "    quant_stepsize = (quant_max - quant_min) / (quant_level - 1) \n",
    "    title = f'$L = {quant_level:d}, \\\\Delta = {quant_stepsize:.2f}$' \n",
    "    title = r'$L = %d, \\Delta=%0.2f$' % (quant_level, quant_stepsize) \n",
    "    error = np.abs(x_quant - x_cont) \n",
    "    axis.plot(x_cont, x_cont, color='k', label='Исходная амплитуда') \n",
    "    axis.plot(x_cont, x_quant, color='b', label='Квантованная амплитуда') \n",
    "    axis.plot(x_cont, error, 'r--', label='Ошибка квантования') \n",
    "    axis.set_title(title) \n",
    "    axis.set_xlabel('Амплитуда') \n",
    "    axis.set_ylabel('Квантованная амплитуда/ошибка') \n",
    "    axis.set_xlim([quant_min, quant_max]) \n",
    "    axis.set_ylim([quant_min, quant_max]) \n",
    "    axis.grid('on') \n",
    "    axis.legend() \n",
    "     \n",
    "     \n",
    "     \n",
    "plt.figure(figsize=(12, 4)) \n",
    "ax = plt.subplot(1, 4, 1) \n",
    "plot_graph_quant_function(ax, quant_min=-1, quant_max=4, quant_level=8) \n",
    "ax = plt.subplot(1, 4, 2) \n",
    "plot_graph_quant_function(ax, quant_min=-2, quant_max=2, quant_level=16) \n",
    "ax = plt.subplot(1, 4, 3) \n",
    "plot_graph_quant_function(ax, quant_min=-1, quant_max=1, quant_level=32) \n",
    "ax = plt.subplot(1, 4, 4) \n",
    "plot_graph_quant_function(ax, quant_min=-1, quant_max=1, quant_level=64) \n",
    "plt.tight_layout() \n",
    " \n",
    "plt.show()"
   ]
  },
  {
   "cell_type": "markdown",
   "metadata": {
    "collapsed": false
   },
   "source": []
  }
 ],
 "metadata": {
  "kernelspec": {
   "display_name": "Python 3.10.2 ('ddp_env': venv)",
   "language": "python",
   "name": "python3"
  },
  "language_info": {
   "codemirror_mode": {
    "name": "ipython",
    "version": 3
   },
   "file_extension": ".py",
   "mimetype": "text/x-python",
   "name": "python",
   "nbconvert_exporter": "python",
   "pygments_lexer": "ipython3",
   "version": "3.10.2"
  },
  "vscode": {
   "interpreter": {
    "hash": "7cc26eb2629622f8be706aef7e7963775f3231d4a7d7cd1c2c178b45580072e0"
   }
  }
 },
 "nbformat": 4,
 "nbformat_minor": 5
}
