{
  "cells": [
    {
      "cell_type": "code",
      "execution_count": 1,
      "id": "floppy-waterproof",
      "metadata": {
        "id": "floppy-waterproof"
      },
      "outputs": [],
      "source": [
        "import numpy as np\n",
        "import matplotlib.pyplot as plt\n",
        "from scipy.stats import kurtosis\n",
        "from scipy.stats import skew\n",
        "%matplotlib inline"
      ]
    },
    {
      "cell_type": "markdown",
      "id": "split-emperor",
      "metadata": {
        "id": "split-emperor"
      },
      "source": [
        "# Равномерное распределение"
      ]
    },
    {
      "cell_type": "code",
      "execution_count": 13,
      "id": "amazing-environment",
      "metadata": {
        "id": "amazing-environment"
      },
      "outputs": [],
      "source": [
        "a, b = 2, 3\n",
        "x_uniform = np.random.uniform(a, b, 1000)"
      ]
    },
    {
      "cell_type": "code",
      "execution_count": 14,
      "id": "indirect-affiliate",
      "metadata": {
        "colab": {
          "base_uri": "https://localhost:8080/"
        },
        "id": "indirect-affiliate",
        "outputId": "a65aec71-7b34-4b78-b3d5-978fac6422ed"
      },
      "outputs": [
        {
          "name": "stdout",
          "output_type": "stream",
          "text": [
            "Среднее значение :  2.497726268175816\n"
          ]
        }
      ],
      "source": [
        "print(\"Среднее значение : \", np.mean(x_uniform))"
      ]
    },
    {
      "cell_type": "code",
      "execution_count": 15,
      "id": "prescribed-attachment",
      "metadata": {
        "id": "prescribed-attachment",
        "outputId": "92ac816d-b502-4132-cd90-9b133fd7443f"
      },
      "outputs": [
        {
          "name": "stdout",
          "output_type": "stream",
          "text": [
            "Дисперсия :  0.08245671865219867\n"
          ]
        }
      ],
      "source": [
        "print(\"Дисперсия : \", np.var(x_uniform))"
      ]
    },
    {
      "cell_type": "code",
      "execution_count": 16,
      "id": "continuous-internship",
      "metadata": {
        "id": "continuous-internship",
        "outputId": "a3d2d50a-6142-462d-d14a-c8729dfd021e"
      },
      "outputs": [
        {
          "name": "stdout",
          "output_type": "stream",
          "text": [
            "Коэффициент асимметрии :  -0.03405365356163527\n"
          ]
        }
      ],
      "source": [
        "print(\"Коэффициент асимметрии : \", skew(x_uniform)) "
      ]
    },
    {
      "cell_type": "code",
      "execution_count": 17,
      "id": "controlling-activity",
      "metadata": {
        "id": "controlling-activity",
        "outputId": "54fcee3f-7723-4f49-eb9d-6ae90b21e78f"
      },
      "outputs": [
        {
          "name": "stdout",
          "output_type": "stream",
          "text": [
            "Коэффициент эксцесса :  -1.1847150292086406\n"
          ]
        }
      ],
      "source": [
        "print(\"Коэффициент эксцесса : \", kurtosis(x_uniform)) "
      ]
    },
    {
      "cell_type": "code",
      "execution_count": 18,
      "id": "pregnant-register",
      "metadata": {
        "colab": {
          "base_uri": "https://localhost:8080/",
          "height": 375
        },
        "id": "pregnant-register",
        "outputId": "174d2a63-dbdd-4174-cc30-b9cf0626a154"
      },
      "outputs": [
        {
          "data": {
            "text/plain": [
              "(array([107.,  99.,  91.,  97.,  92., 111., 110., 100., 101.,  92.]),\n",
              " array([2.00032829, 2.10013616, 2.19994403, 2.2997519 , 2.39955977,\n",
              "        2.49936764, 2.59917551, 2.69898338, 2.79879125, 2.89859912,\n",
              "        2.99840699]),\n",
              " <BarContainer object of 10 artists>)"
            ]
          },
          "execution_count": 18,
          "metadata": {},
          "output_type": "execute_result"
        },
        {
          "data": {
            "image/png": "[encoded data removed]",
            "text/plain": [
              "<Figure size 432x288 with 1 Axes>"
            ]
          },
          "metadata": {
            "needs_background": "light"
          },
          "output_type": "display_data"
        }
      ],
      "source": [
        "plt.hist(x_uniform, 10, edgecolor='k')"
      ]
    },
    {
      "cell_type": "code",
      "execution_count": 19,
      "id": "induced-restoration",
      "metadata": {
        "colab": {
          "base_uri": "https://localhost:8080/",
          "height": 265
        },
        "id": "induced-restoration",
        "outputId": "c3f05c3c-511f-47e0-a11a-7bf3aa9d21db"
      },
      "outputs": [
        {
          "data": {
            "image/png": "[encoded data removed]",
            "text/plain": [
              "<Figure size 432x288 with 1 Axes>"
            ]
          },
          "metadata": {
            "needs_background": "light"
          },
          "output_type": "display_data"
        }
      ],
      "source": [
        "count, bins, ignored = plt.hist(x_uniform, 10, edgecolor='k', density=True)\n",
        "plt.plot(bins, np.ones_like(bins), linewidth=2, color='r')\n",
        "plt.show()"
      ]
    },
    {
      "cell_type": "markdown",
      "id": "graduate-madagascar",
      "metadata": {
        "id": "graduate-madagascar"
      },
      "source": [
        "## Моделирование равномерно распределенной случайной величины c использованием линейного конгруэнтного метода\n",
        "\n",
        "#### Необходимо задать следующие параметры:\n",
        "* $m$, $m>0$ - модуль;\n",
        "* $a$, $0\\leq a<m$ - множитель;\n",
        "* $c$, $0\\leq c<m$ - приращение;\n",
        "* $X_0$, $0\\leq X_0<m$ - начальное значение последовательности.\n",
        "\n",
        "#### Последовательность псевдослучайных чисел:\n",
        "$$X_{n+1} = (aX_n + c)\\ mod \\ m$$ \n",
        "$n \\geq 0$\n",
        "\n",
        "**Значение $m$ следует выбирать достаточно большим,поскольку период последовательности\n",
        "не превышает $m$.**\n",
        "\n",
        "#### Установите следующие значения параметров:\n",
        "* $m = 2^{31}-1$;\n",
        "* $a = 16807$;\n",
        "* $c=1$;\n",
        "* $seed = 12345$;\n",
        "* начальное значение $X_0 = (seed \\cdot a + 1) \\ mod \\ m$ (полученное значение затем разделить на $m$);\n",
        "* остальные значения последовательности $X_{n+1}$ также разделить на $m$ (таким образом, значения последовательности будут находится в диапазоне (0,1]);\n",
        "* привести диапазон сгенерированных значений в интервал $(a,b)$ в соответствии со своим вариантом."
      ]
    },
    {
      "cell_type": "code",
      "execution_count": 20,
      "id": "arQAcjpjb8pc",
      "metadata": {
        "id": "arQAcjpjb8pc"
      },
      "outputs": [
        {
          "name": "stdout",
          "output_type": "stream",
          "text": [
            "Моделирование равномерно распределенной случайной величины c использованием линейного конгруэнтного метода:  1791006632\n"
          ]
        }
      ],
      "source": [
        "m=(2**31)-1 \n",
        "a = 16807 \n",
        "c = 1 \n",
        "seed = 12345 \n",
        "x0=np.mod((a*seed+1), m, dtype='int64') \n",
        "x=np.mod((a*x0+c), m, dtype='int64')\n",
        "print(\"Моделирование равномерно распределенной случайной величины c использованием линейного конгруэнтного метода: \", x)"
      ]
    },
    {
      "cell_type": "markdown",
      "id": "approved-supervision",
      "metadata": {
        "id": "approved-supervision"
      },
      "source": [
        "# Нормальное распределение"
      ]
    },
    {
      "cell_type": "code",
      "execution_count": 22,
      "id": "direct-welding",
      "metadata": {
        "id": "direct-welding"
      },
      "outputs": [],
      "source": [
        "mu, sigma = 1, 2\n",
        "x_n = np.random.normal(mu, sigma, 10000)"
      ]
    },
    {
      "cell_type": "code",
      "execution_count": 24,
      "id": "4a71511b",
      "metadata": {},
      "outputs": [
        {
          "name": "stdout",
          "output_type": "stream",
          "text": [
            "Среднее значение :  0.9699298304084343\n",
            "Дисперсия :  4.034480122070493\n",
            "Коэффициент асимметрии :  -0.031441670887462705\n",
            "Коэффициент эксцесса :  0.0012956338220631025\n"
          ]
        }
      ],
      "source": [
        "print(\"Среднее значение : \", np.mean(x_n))\n",
        "print(\"Дисперсия : \", np.var(x_n))\n",
        "print(\"Коэффициент асимметрии : \", skew(x_n))\n",
        "print(\"Коэффициент эксцесса : \", kurtosis(x_n))"
      ]
    },
    {
      "cell_type": "code",
      "execution_count": 25,
      "id": "bizarre-cause",
      "metadata": {
        "id": "bizarre-cause",
        "outputId": "66405941-1181-4fc6-c9f3-c65b764482a6"
      },
      "outputs": [
        {
          "data": {
            "image/png": "[encoded data removed]",
            "text/plain": [
              "<Figure size 432x288 with 1 Axes>"
            ]
          },
          "metadata": {
            "needs_background": "light"
          },
          "output_type": "display_data"
        }
      ],
      "source": [
        "count, bins, ignored = plt.hist(x_n, 30, edgecolor='k', density = True)"
      ]
    },
    {
      "cell_type": "code",
      "execution_count": 26,
      "id": "alike-penguin",
      "metadata": {
        "id": "alike-penguin",
        "outputId": "f5fd6dd0-0d93-4133-8348-679d76210861"
      },
      "outputs": [
        {
          "data": {
            "image/png": "[encoded data removed]",
            "text/plain": [
              "<Figure size 432x288 with 1 Axes>"
            ]
          },
          "metadata": {
            "needs_background": "light"
          },
          "output_type": "display_data"
        }
      ],
      "source": [
        "plt.plot(bins, 1/(sigma * np.sqrt(2*np.pi)) * np.exp(- (bins - mu)**2 / (2 * sigma**2)), linewidth=2, color='r')\n",
        "plt.show()"
      ]
    },
    {
      "cell_type": "code",
      "execution_count": 27,
      "id": "respected-cattle",
      "metadata": {
        "id": "respected-cattle",
        "outputId": "4014c22c-0cb6-47db-e9c1-8b7116598cc1"
      },
      "outputs": [
        {
          "data": {
            "image/png": "[encoded data removed]",
            "text/plain": [
              "<Figure size 432x288 with 1 Axes>"
            ]
          },
          "metadata": {
            "needs_background": "light"
          },
          "output_type": "display_data"
        }
      ],
      "source": [
        "count, bins, ignored = plt.hist(x_n, 30, edgecolor='k', density=True)\n",
        "plt.plot(bins, 1/(sigma * np.sqrt(2*np.pi)) * np.exp(- (bins - mu)**2 / (2 * sigma**2)), linewidth=2, color='r')\n",
        "plt.show()"
      ]
    },
    {
      "cell_type": "markdown",
      "id": "direct-signal",
      "metadata": {
        "id": "direct-signal"
      },
      "source": [
        "## Моделирование нормального распределения с использованием преобразования Бокса-Мюллера\n",
        "\n",
        "* Получить две случайные величины $U_1$ и $U_2$, равномерно распределённые на интервале $(0 , 1]$.\n",
        "* Вычислить $z_0$ и $z_1$:\n",
        "$$z_0 = \\sqrt {-2\\ln U_1}cos(2\\pi U_2)$$     \n",
        "$$z_1 = \\sqrt {-2\\ln U_1}sin(2\\pi U_2)$$\n",
        "* Для получения заданного мат. ожидания и дисперсии:\n",
        "$$z = z_0\\sigma + \\mu$$"
      ]
    },
    {
      "cell_type": "code",
      "execution_count": 29,
      "id": "0d4d21c6",
      "metadata": {},
      "outputs": [
        {
          "name": "stdout",
          "output_type": "stream",
          "text": [
            "3.008094401312135\n"
          ]
        }
      ],
      "source": [
        "u1 = np.random.random()\n",
        "u2 = np.random.random()\n",
        "z0 = ((-2*np.log(u1))**(1/2)) * np.cos(2*np.pi*u2)\n",
        "z1 = ((-2*np.log(u1))**(1/2)) * np.sin(2*np.pi*u2)\n",
        "z = z0*np.mean(x_n) + np.var(x_n)\n",
        "print(z)"
      ]
    },
    {
      "cell_type": "markdown",
      "id": "mechanical-spouse",
      "metadata": {
        "id": "mechanical-spouse"
      },
      "source": [
        "# Распределение Рэлея"
      ]
    },
    {
      "cell_type": "code",
      "execution_count": 33,
      "id": "surrounded-genius",
      "metadata": {
        "id": "surrounded-genius",
        "outputId": "56b7363e-2688-423e-d244-811e20c985cb"
      },
      "outputs": [
        {
          "data": {
            "image/png": "[encoded data removed]",
            "text/plain": [
              "<Figure size 432x288 with 1 Axes>"
            ]
          },
          "metadata": {
            "needs_background": "light"
          },
          "output_type": "display_data"
        }
      ],
      "source": [
        "x_r = np.random.rayleigh(3, 1000)\n",
        "count, bins, ignored = plt.hist(x_r, 20, edgecolor='k', density=True)"
      ]
    },
    {
      "cell_type": "markdown",
      "id": "reliable-bernard",
      "metadata": {
        "id": "reliable-bernard"
      },
      "source": [
        "## Моделирование распределения Рэлея\n",
        "\n",
        "* Получить две случайные нормально распределенные величины $x$ и $y$ с нулевым математическим ожиданием и одинаковыми дисперсиями ($\\sigma$ в соответствии со своим номером варианта).\n",
        "* Случайная величина с законом распределения Рэлея рассчитывается как: \n",
        "$$R = \\sqrt{x^2 + y^2}$$"
      ]
    },
    {
      "cell_type": "code",
      "execution_count": 38,
      "id": "457f48e2",
      "metadata": {},
      "outputs": [
        {
          "name": "stdout",
          "output_type": "stream",
          "text": [
            "Среднее значение :  2.503467478780999\n",
            "Дисперсия :  1.741568436562383\n",
            "Коэффициент асимметрии :  0.5812980475012156\n",
            "Коэффициент эксцесса :  0.10664953371081287\n"
          ]
        },
        {
          "data": {
            "image/png": "[encoded data removed]",
            "text/plain": [
              "<Figure size 432x288 with 1 Axes>"
            ]
          },
          "metadata": {
            "needs_background": "light"
          },
          "output_type": "display_data"
        }
      ],
      "source": [
        "x = np.random.normal(0, 2, 1000)\n",
        "y = np.random.normal(0, 2, 1000)\n",
        "r = (x**2 + y**2)**(1/2)\n",
        "print(\"Среднее значение : \", np.mean(r))\n",
        "print(\"Дисперсия : \", np.var(r))\n",
        "print(\"Коэффициент асимметрии : \", skew(r))\n",
        "print(\"Коэффициент эксцесса : \", kurtosis(r))\n",
        "count, bins, ignored = plt.hist(r, 20, edgecolor='k', density=True)\n"
      ]
    },
    {
      "cell_type": "markdown",
      "id": "decreased-painting",
      "metadata": {
        "id": "decreased-painting"
      },
      "source": [
        "# Распределение Пуассона"
      ]
    },
    {
      "cell_type": "code",
      "execution_count": 40,
      "id": "honey-france",
      "metadata": {
        "id": "honey-france",
        "outputId": "4c1ce936-dc59-47a9-d1b8-0de5ae09d9f6"
      },
      "outputs": [
        {
          "name": "stdout",
          "output_type": "stream",
          "text": [
            "Среднее значение :  1.948\n",
            "Дисперсия :  1.8752960000000003\n",
            "Коэффициент асимметрии :  0.8460428932181127\n",
            "Коэффициент эксцесса :  1.4073512365866367\n"
          ]
        },
        {
          "data": {
            "image/png": "[encoded data removed]",
            "text/plain": [
              "<Figure size 432x288 with 1 Axes>"
            ]
          },
          "metadata": {
            "needs_background": "light"
          },
          "output_type": "display_data"
        }
      ],
      "source": [
        "x_p = np.random.poisson(2, 1000)\n",
        "count, bins, ignored = plt.hist(x_p, 20, edgecolor='k', density=True)\n",
        "print(\"Среднее значение : \", np.mean(x_p))\n",
        "print(\"Дисперсия : \", np.var(x_p))\n",
        "print(\"Коэффициент асимметрии : \", skew(x_p))\n",
        "print(\"Коэффициент эксцесса : \", kurtosis(x_p))"
      ]
    },
    {
      "cell_type": "markdown",
      "id": "noble-timeline",
      "metadata": {
        "id": "noble-timeline"
      },
      "source": [
        "# Задание\n",
        "\n",
        "1. Для каждого распределения с варьируемым размером выборки рассчитать статистические моменты, а именно выборочное среднее, выборочную дисперсию и выборочные коэффициенты асимметрии и эксцесса.\n",
        "2. Построить гистограмму для полученной выборки и совместить её с графиком теоретической плотности распределения вероятностей.\n",
        "3. Выполнить моделирование непрерывного равномерного распределения с помощью линейного конгруэнтного метода.\n",
        "4. Выполнить моделирование нормального распределения с помощью преобразования Бокса-Мюллера.\n",
        "5. Выполнить моделирование распределения Рэлея.\n"
      ]
    },
    {
      "cell_type": "markdown",
      "id": "dressed-accountability",
      "metadata": {
        "id": "dressed-accountability"
      },
      "source": [
        "# Темы для подготовки к защите практического задания №3\n",
        "\n",
        "1. Случайные величины и процессы. Детерминированные и случайные процессы. Непрерывные и дискретные случайные величины.\n",
        "2.\tФункция распределения случайной величины. Свойства функций распределения. Плотность распределения вероятности и её свойства.\n",
        "3.\tНормальное (гауссово) распределение. Распределение Рэлея. Равномерное распределение. Распределение Пуассона.\n",
        "4.\tЛинейный конгруэнтный метод моделирования случайных величин. Моделирование нормального распределения (центральная предельная теорема, преобразование Бокса-Мюллера). Моделирование распределения Рэлея.\n",
        "5.\tЧисловые характеристики случайных величин. Моменты случайной величины. Математическое ожидание. Свойства математического ожидания. Центральные моменты случайной величины. Дисперсия случайной величины и её свойства. Коэффициент асимметрии. Коэффициент эксцесса."
      ]
    },
    {
      "cell_type": "code",
      "execution_count": null,
      "id": "surprised-helena",
      "metadata": {
        "id": "surprised-helena"
      },
      "outputs": [],
      "source": []
    }
  ],
  "metadata": {
    "colab": {
      "name": "Practice3_prob_distrib_model.ipynb",
      "provenance": []
    },
    "kernelspec": {
      "display_name": "Python 3.10.2 ('ddp_env': venv)",
      "language": "python",
      "name": "python3"
    },
    "language_info": {
      "codemirror_mode": {
        "name": "ipython",
        "version": 3
      },
      "file_extension": ".py",
      "mimetype": "text/x-python",
      "name": "python",
      "nbconvert_exporter": "python",
      "pygments_lexer": "ipython3",
      "version": "3.10.2"
    },
    "vscode": {
      "interpreter": {
        "hash": "7cc26eb2629622f8be706aef7e7963775f3231d4a7d7cd1c2c178b45580072e0"
      }
    }
  },
  "nbformat": 4,
  "nbformat_minor": 5
}
